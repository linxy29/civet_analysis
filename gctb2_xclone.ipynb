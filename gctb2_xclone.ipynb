{
 "cells": [
  {
   "cell_type": "code",
   "execution_count": null,
   "metadata": {},
   "outputs": [
    {
     "ename": "",
     "evalue": "",
     "output_type": "error",
     "traceback": [
      "\u001b[1;31mRunning cells with 'xclonexclone' requires the ipykernel package.\n",
      "\u001b[1;31mRun the following command to install 'ipykernel' into the Python environment. \n",
      "\u001b[1;31mCommand: 'conda install -n xclonexclone ipykernel --update-deps --force-reinstall'"
     ]
    }
   ],
   "source": [
    "%load_ext autoreload\n",
    "%autoreload 2\n",
    "\n",
    "import xclone\n",
    "import anndata as an\n",
    "import pandas as pd\n",
    "import numpy as np\n",
    "import scipy\n",
    "print(\"scipy\", scipy.__version__)\n",
    "\n",
    "xclone.pp.efficiency_preview()"
   ]
  },
  {
   "cell_type": "code",
   "execution_count": 2,
   "metadata": {},
   "outputs": [
    {
     "name": "stdout",
     "output_type": "stream",
     "text": [
      "/home/linxy29/anaconda3/bin/python\n"
     ]
    }
   ],
   "source": [
    "import sys\n",
    "print(sys.executable)"
   ]
  },
  {
   "cell_type": "code",
   "execution_count": null,
   "metadata": {},
   "outputs": [],
   "source": [
    "dataset_name = \"TNBC1_scRNA\"\n",
    "## output results dir\n",
    "outdir = \"/storage/xxxx/users/xxxx/xclone/tutorials/\""
   ]
  },
  {
   "cell_type": "code",
   "execution_count": null,
   "metadata": {},
   "outputs": [],
   "source": [
    "xconfig = xclone.XCloneConfig(dataset_name = dataset_name, module = \"RDR\")\n",
    "xconfig.set_figure_params(xclone= True, fontsize = 18)\n",
    "xconfig.outdir = outdir\n",
    "xconfig.cell_anno_key = \"cluster.pred\"\n",
    "xconfig.ref_celltype = \"N\"\n",
    "xconfig.marker_group_anno_key = \"cluster.pred\"\n",
    "xconfig.xclone_plot= True\n",
    "xconfig.plot_cell_anno_key = \"cluster\"\n",
    "xconfig.display()\n",
    "\n",
    "RDR_Xdata = xclone.model.run_RDR(RDR_adata,\n",
    "            config_file = xconfig)"
   ]
  }
 ],
 "metadata": {
  "kernelspec": {
   "display_name": "Python 3 (ipykernel)",
   "language": "python",
   "name": "python3"
  },
  "language_info": {
   "codemirror_mode": {
    "name": "ipython",
    "version": 3
   },
   "file_extension": ".py",
   "mimetype": "text/x-python",
   "name": "python",
   "nbconvert_exporter": "python",
   "pygments_lexer": "ipython3",
   "version": "3.7.12"
  }
 },
 "nbformat": 4,
 "nbformat_minor": 2
}
