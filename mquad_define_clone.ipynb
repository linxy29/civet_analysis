{
 "cells": [
  {
   "cell_type": "code",
   "execution_count": 1,
   "metadata": {},
   "outputs": [
    {
     "name": "stdout",
     "output_type": "stream",
     "text": [
      "0.5.9\n"
     ]
    }
   ],
   "source": [
    "import vireoSNP\n",
    "import numpy as np\n",
    "from scipy import sparse\n",
    "from scipy.io import mmread\n",
    "import matplotlib.pyplot as plt\n",
    "\n",
    "print(vireoSNP.__version__)"
   ]
  },
  {
   "cell_type": "code",
   "execution_count": null,
   "metadata": {},
   "outputs": [],
   "source": [
    "import requests\n",
    "from io import BytesIO\n",
    "\n",
    "ROOT_FOLDER = \"/Users/linxy29/Documents/Data/CIVET/simulation\"\n",
    "SCENARIO = \"SCENARIO_1_Mutation_Rate\"\n",
    "CONDITION = \"mutation_rate_1_20250507_120608\"\n",
    "\n",
    "AD = mmread(BytesIO(requests.get(data_path + \"passed_ad.mtx\").content)).tocsc()\n",
    "DP = mmread(BytesIO(requests.get(data_path + \"passed_dp.mtx\").content)).tocsc()\n",
    "\n",
    "mtSNP_ids = np.genfromtxt(data_path + \"passed_variant_names.txt\", dtype='str')"
   ]
  },
  {
   "cell_type": "markdown",
   "metadata": {},
   "source": [
    "### Identify clone"
   ]
  },
  {
   "cell_type": "code",
   "execution_count": null,
   "metadata": {},
   "outputs": [],
   "source": [
    "n_init = 50\n",
    "n_clone_list = np.arange(2, 10)\n",
    "\n",
    "_ELBO_mat = []\n",
    "for k in n_clone_list:\n",
    "    _model = BinomMixtureVB(n_var=AD.shape[0], n_cell=AD.shape[1], n_donor=k)\n",
    "    _model.fit(AD, DP, min_iter=30, n_init=n_init)\n",
    "    _ELBO_mat.append(_model.ELBO_inits)"
   ]
  },
  {
   "cell_type": "code",
   "execution_count": null,
   "metadata": {},
   "outputs": [],
   "source": [
    "plt.plot(np.arange(1, len(n_clone_list)+1), np.max(_ELBO_mat, axis=1))\n",
    "plt.boxplot(_ELBO_mat)\n",
    "plt.xticks(np.arange(1, len(n_clone_list)+1), n_clone_list)\n",
    "plt.ylabel(\"ELBO\")\n",
    "plt.xlabel(\"n_clones\")\n",
    "plt.show()"
   ]
  },
  {
   "cell_type": "code",
   "execution_count": null,
   "metadata": {},
   "outputs": [],
   "source": [
    "from vireoSNP import BinomMixtureVB"
   ]
  },
  {
   "cell_type": "code",
   "execution_count": null,
   "metadata": {},
   "outputs": [],
   "source": [
    "from matplotlib import cm\n",
    "from matplotlib.colors import ListedColormap, LinearSegmentedColormap\n",
    "\n",
    "raw_col = cm.get_cmap('pink_r', 200)\n",
    "new_col = np.vstack((raw_col(np.linspace(0, 0.7, 10)),\n",
    "                     raw_col(np.linspace(0.7, 1, 90))))\n",
    "segpink = ListedColormap(new_col, name='segpink')"
   ]
  },
  {
   "cell_type": "code",
   "execution_count": null,
   "metadata": {},
   "outputs": [],
   "source": [
    "from vireoSNP.plot import heat_matrix\n",
    "\n",
    "fig = plt.figure(figsize=(7, 4), dpi=100)\n",
    "plt.subplot(1, 2, 1)\n",
    "im = heat_matrix(_model.ID_prob, cmap=\"Blues\", alpha=0.8,\n",
    "                 display_value=False, row_sort=True)\n",
    "plt.colorbar(im, fraction=0.046, pad=0.04)\n",
    "plt.title(\"Assignment probability\")\n",
    "plt.xlabel(\"Clone\")\n",
    "plt.ylabel(\"%d cells\" %(_model.n_cell))\n",
    "plt.xticks(range(_model.n_donor))\n",
    "\n",
    "\n",
    "plt.subplot(1, 2, 2)\n",
    "im = heat_matrix(_model.beta_mu, cmap=segpink, alpha=0.8,\n",
    "                 display_value=False, row_sort=True)\n",
    "plt.colorbar(im, fraction=0.046, pad=0.04)\n",
    "plt.title(\"Mean allelic ratio\")\n",
    "plt.xlabel(\"Clone\")\n",
    "plt.ylabel(\"%d SNPs\" %(_model.n_var))\n",
    "plt.xticks(range(_model.n_donor))\n",
    "\n",
    "plt.tight_layout()\n",
    "plt.show()\n",
    "# plt.savefig(\"you_favorate_path with png or pdf\")"
   ]
  }
 ],
 "metadata": {
  "kernelspec": {
   "display_name": "civet",
   "language": "python",
   "name": "python3"
  },
  "language_info": {
   "codemirror_mode": {
    "name": "ipython",
    "version": 3
   },
   "file_extension": ".py",
   "mimetype": "text/x-python",
   "name": "python",
   "nbconvert_exporter": "python",
   "pygments_lexer": "ipython3",
   "version": "3.13.3"
  }
 },
 "nbformat": 4,
 "nbformat_minor": 2
}
