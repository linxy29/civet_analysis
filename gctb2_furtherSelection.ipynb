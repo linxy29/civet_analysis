{
 "cells": [
  {
   "cell_type": "code",
   "execution_count": 1,
   "metadata": {},
   "outputs": [],
   "source": [
    "%load_ext autoreload\n",
    "%autoreload 2\n",
    "%matplotlib inline\n",
    "\n",
    "import pandas as pd\n",
    "import numpy as np\n",
    "import seaborn as sns\n",
    "import matplotlib.pyplot as plt\n",
    "import vireoSNP\n",
    "from utilities import *\n",
    "import re\n",
    "import os"
   ]
  },
  {
   "cell_type": "markdown",
   "metadata": {},
   "source": [
    "## Read data"
   ]
  },
  {
   "cell_type": "code",
   "execution_count": 2,
   "metadata": {},
   "outputs": [
    {
     "name": "stdout",
     "output_type": "stream",
     "text": [
      "The dimension of the p-value data is:  (9647, 6)\n",
      "The dimension of the p-value data is:  (10771, 6)\n",
      "The dimension of the p-value data is:  (20418, 6)\n"
     ]
    }
   ],
   "source": [
    "## Chose1 option 2 - read p-value data where L86 and L98 are calculated separately\n",
    "folder_path = \"/home/linxy29/data/maester/oagct/gctb2/variant_selection/\"\n",
    "## L86 sample\n",
    "res_name = \"HEMO_pipeline_maester_cellSNP_celltype_L86TumorvsNorm\"\n",
    "res1 = pd.read_csv(folder_path + res_name + \"_res.csv\", index_col=0)\n",
    "res1['group'] = 'L86'\n",
    "res1.reset_index(inplace=True)\n",
    "print(\"The dimension of the p-value data is: \", res1.shape)\n",
    "## L98 sample\n",
    "res_name = \"HEMO_pipeline_maester_cellSNP_celltype_L98TumorvsNorm\"\n",
    "res2 = pd.read_csv(folder_path + res_name + \"_res.csv\", index_col=0)\n",
    "res2['group'] = 'L98'\n",
    "res2.reset_index(inplace=True)\n",
    "print(\"The dimension of the p-value data is: \", res2.shape)\n",
    "## bind the two dataframes\n",
    "res = pd.concat([res1, res2], axis=0)\n",
    "print(\"The dimension of the p-value data is: \", res.shape)\n",
    "\n",
    "## output folder: if the output folder does not exist, create it\n",
    "output_folder = folder_path + \"HEMO_pipeline_maester_cellSNP_celltype_gctb2TumorvsNorm_gctb2subset_analysis/\"## get the p-value of the paper site\n",
    "if not os.path.exists(output_folder):\n",
    "    os.makedirs(output_folder)"
   ]
  },
  {
   "cell_type": "code",
   "execution_count": 3,
   "metadata": {},
   "outputs": [
    {
     "name": "stdout",
     "output_type": "stream",
     "text": [
      "14877 variants detected\n",
      "variant names detected\n",
      "The dimension of the AD data is:  (14877, 5355)\n",
      "The dimension of the DP data is:  (14877, 5355)\n",
      "The number of mtSNPs is:  14877\n"
     ]
    }
   ],
   "source": [
    "variant_folder = \"/home/linxy29/data/maester/oagct/gctb2/HEMO_pipeline_maester_cellSNP_gctb2subset/\"\n",
    "gctb2_mquad, gctb2_barcode = load_cellsnp(variant_folder)\n",
    "print(\"The dimension of the AD data is: \", gctb2_mquad.ad.shape)\n",
    "print(\"The dimension of the DP data is: \", gctb2_mquad.dp.shape)\n",
    "print(\"The number of mtSNPs is: \", len(gctb2_mquad.variants))"
   ]
  },
  {
   "cell_type": "code",
   "execution_count": 4,
   "metadata": {},
   "outputs": [
    {
     "name": "stdout",
     "output_type": "stream",
     "text": [
      "The dimension of the clone ID data is:  (7537, 4)\n",
      "                 cellID cell_label sample sample_label\n",
      "0  L86_AAACCCAGTGCACATT     Normal    L86   L86_Normal\n",
      "1  L86_AAACCCAGTTATGTGC     Normal    L86   L86_Normal\n",
      "2  L86_AAACCCAGTTTCACTT     Normal    L86   L86_Normal\n",
      "3  L86_AAACGAAAGGAGCTGT      Tumor    L86    L86_Tumor\n",
      "4  L86_AAACGAACAATGTCTG     Normal    L86   L86_Normal\n"
     ]
    }
   ],
   "source": [
    "# Chose2 option2 - Read clone ID - TumorvsNorm\n",
    "cloneID = pd.read_csv(\"/home/linxy29/data/GCTB/gctb2_anno.csv\")\n",
    "cloneID['cellID'] = cloneID['barcode'].str.replace('-1', \"\")\n",
    "cloneID['cell_label'] = cloneID['celltype'].apply(lambda x: 'Tumor' if x == 'Mesenchymal' else 'Normal')\n",
    "cloneID['sample'] = cloneID['barcode'].apply(lambda x: 'L86' if x.startswith('L86') else 'L98')\n",
    "cloneID['sample_label'] = cloneID['sample'] + \"_\" + cloneID['cell_label']\n",
    "cloneID = cloneID[['cellID', 'cell_label', 'sample', 'sample_label']]\n",
    "print(\"The dimension of the clone ID data is: \", cloneID.shape)\n",
    "print(cloneID.head())"
   ]
  },
  {
   "cell_type": "markdown",
   "metadata": {},
   "source": [
    "# Optional - Read germline variants\n",
    "file_name_L98 = \"/home/linxy29/data/maester/oagct/gct98/HEMO_pipeline/maester_cellSNP/germline_variant.csv\"\n",
    "germline_L98 = np.genfromtxt(file_name_L98, delimiter=\",\", dtype=str)\n",
    "file_name_L86 = \"/home/linxy29/data/maester/oagct/gct86/HEMO_pipeline/maester_cellSNP/germline_variant.csv\"\n",
    "germline_L86 = np.genfromtxt(file_name_L86, delimiter=\",\", dtype=str)\n",
    "germline = np.concatenate([germline_L98, germline_L86])\n",
    "germline = np.unique(germline)\n",
    "\n",
    "# Function to modify each element\n",
    "def modify_element(element):\n",
    "    parts = element.split('_')\n",
    "    return f\"{parts[1]}{parts[2]}>{parts[3]}\"\n",
    "\n",
    "# Apply the function to each element in the array\n",
    "germline = np.array([modify_element(item) for item in germline], dtype='<U14')\n",
    "\n",
    "print(\"The number of germline variants is: \", len(germline))\n",
    "print(germline)"
   ]
  },
  {
   "cell_type": "code",
   "execution_count": 6,
   "metadata": {},
   "outputs": [],
   "source": [
    "## calculate the allel frequency\n",
    "af = np.divide(gctb2_mquad.ad, gctb2_mquad.dp, where=gctb2_mquad.dp!=0)\n",
    "af[np.isnan(af)] = 0\n",
    "## get the mean of af\n",
    "mean_af = np.mean(af, axis=1)\n",
    "variance_af = np.var(af, axis=1)\n",
    "SNR_af = np.divide(mean_af, variance_af, where=variance_af!=0)\n",
    "## create a dataframe to store the mean and variance of af\n",
    "af_statsitics = pd.DataFrame({'variant':gctb2_mquad.variants, 'mean_af': mean_af, 'variance_af': variance_af, 'SNR_af': SNR_af})"
   ]
  },
  {
   "cell_type": "code",
   "execution_count": 13,
   "metadata": {},
   "outputs": [],
   "source": [
    "sig_test_variant = res[res['Wald_pval'] < 0.05]['variant'].unique()\n",
    "## get the intersection of the significant test variants and the variants in the gctb2 dataset\n",
    "sig_test_variant = np.intersect1d(sig_test_variant, gctb2_mquad.variants)\n",
    "sig_test_variant_index = [gctb2_mquad.variants.index(x) for x in sig_test_variant] "
   ]
  },
  {
   "cell_type": "code",
   "execution_count": 14,
   "metadata": {},
   "outputs": [
    {
     "name": "stdout",
     "output_type": "stream",
     "text": [
      "The number of significant test variants is:  1663\n"
     ]
    }
   ],
   "source": [
    "print(\"The number of significant test variants is: \", len(sig_test_variant))"
   ]
  },
  {
   "cell_type": "code",
   "execution_count": 15,
   "metadata": {},
   "outputs": [
    {
     "name": "stdout",
     "output_type": "stream",
     "text": [
      "The dimension of af is:  (14877, 5355)\n"
     ]
    }
   ],
   "source": [
    "## print the dimension of af\n",
    "print(\"The dimension of af is: \", af.shape)\n",
    "## select af data for the significant variants\n",
    "af_sig = af[sig_test_variant_index, :]"
   ]
  },
  {
   "cell_type": "code",
   "execution_count": 32,
   "metadata": {},
   "outputs": [
    {
     "name": "stdout",
     "output_type": "stream",
     "text": [
      "The dimension of the af data for the significant test variants is:  (5355, 1667)\n",
      "    1000T>A   1002C>A  1003A>C  1008A>T   1011C>A  10129T>A  10141A>T  \\\n",
      "0  0.000000  0.000000      0.0      0.0  0.000000  0.005714  0.002849   \n",
      "1  0.023256  0.000000      0.0      0.0  0.000000  0.003040  0.000000   \n",
      "2  0.000000  0.000000      0.0      0.0  0.000000  0.000000  0.000000   \n",
      "3  0.000000  0.026316      0.0      0.0  0.000000  0.000000  0.000000   \n",
      "4  0.000000  0.000000      0.0      0.0  0.009434  0.000000  0.000000   \n",
      "\n",
      "    1014A>T  10152G>T  10165C>A  ...   9944T>G   9956A>C   9968C>A   9973T>G  \\\n",
      "0  0.000000  0.000000       0.0  ...  0.010000  0.035533  0.015385  0.035897   \n",
      "1  0.023810  0.000000       0.0  ...  0.011111  0.027778  0.005587  0.016760   \n",
      "2  0.034483  0.000000       0.0  ...  0.010417  0.010526  0.031579  0.031579   \n",
      "3  0.000000  0.003922       0.0  ...  0.000000  0.018349  0.000000  0.018692   \n",
      "4  0.018868  0.000000       0.0  ...  0.037037  0.024691  0.012346  0.012500   \n",
      "\n",
      "    9978T>G   9989T>C                cellID  cell_label  sample  sample_label  \n",
      "0  0.000000  0.078431  L86_AAACGAAGTCAAACGG         NaN     NaN           NaN  \n",
      "1  0.005714  0.074324  L86_AAAGAACGTCTTAGTG         NaN     NaN           NaN  \n",
      "2  0.000000  0.070423  L86_AAAGGATAGTAACAGT         NaN     NaN           NaN  \n",
      "3  0.000000  0.033708  L86_AAAGGATTCAGAGCGA      Normal     L86    L86_Normal  \n",
      "4  0.000000  0.046154  L86_AAAGGGCTCTGAGTCA         NaN     NaN           NaN  \n",
      "\n",
      "[5 rows x 1667 columns]\n"
     ]
    }
   ],
   "source": [
    "## convert the af data to a dataframe and add the variant name\n",
    "af_sig_df = pd.DataFrame(af_sig.T, columns=sig_test_variant)\n",
    "af_sig_df['cellID'] = gctb2_barcode\n",
    "af_sig_df = pd.merge(af_sig_df, cloneID, on='cellID', how='left')\n",
    "print(\"The dimension of the af data for the significant test variants is: \", af_sig_df.shape)\n",
    "print(af_sig_df.head())"
   ]
  },
  {
   "cell_type": "markdown",
   "metadata": {},
   "source": [
    "## Lasso regression"
   ]
  },
  {
   "cell_type": "code",
   "execution_count": 33,
   "metadata": {},
   "outputs": [
    {
     "name": "stdout",
     "output_type": "stream",
     "text": [
      "The dimension of the filtered data is:  (1841, 1666)\n"
     ]
    },
    {
     "name": "stderr",
     "output_type": "stream",
     "text": [
      "/tmp/ipykernel_8661/4028620494.py:19: SettingWithCopyWarning: \n",
      "A value is trying to be set on a copy of a slice from a DataFrame.\n",
      "Try using .loc[row_indexer,col_indexer] = value instead\n",
      "\n",
      "See the caveats in the documentation: https://pandas.pydata.org/pandas-docs/stable/user_guide/indexing.html#returning-a-view-versus-a-copy\n",
      "  df_filtered['cell_label'] = label_encoder.fit_transform(df_filtered['cell_label'])\n"
     ]
    },
    {
     "name": "stdout",
     "output_type": "stream",
     "text": [
      "The number of selected features for L86 samples is:  90\n",
      "The number of selected features for L98 samples is:  14\n",
      "The number of selected features for combined L86 and L98 samples is:  26\n"
     ]
    }
   ],
   "source": [
    "import pandas as pd\n",
    "import numpy as np\n",
    "from sklearn.linear_model import Lasso\n",
    "from sklearn.preprocessing import StandardScaler, LabelEncoder\n",
    "from sklearn.model_selection import train_test_split\n",
    "\n",
    "# Sample data (the provided data snippet)\n",
    "df = af_sig_df\n",
    "\n",
    "# Step 1: Make cellID the row index\n",
    "df.set_index('cellID', inplace=True)\n",
    "\n",
    "# Step 2: Filter rows with NA in the 'cell_label' column\n",
    "df_filtered = df.dropna(subset=['cell_label'])\n",
    "print(\"The dimension of the filtered data is: \", df_filtered.shape)\n",
    "\n",
    "# Encode 'cell_label' as numeric\n",
    "label_encoder = LabelEncoder()\n",
    "df_filtered['cell_label'] = label_encoder.fit_transform(df_filtered['cell_label'])\n",
    "\n",
    "# Function to perform Lasso regression and select important features\n",
    "def lasso_feature_selection(dataframe, target_column):\n",
    "    X = dataframe.drop(columns=[target_column, 'sample', 'sample_label'], errors='ignore')\n",
    "    y = dataframe[target_column]\n",
    "    \n",
    "    # Standardize features\n",
    "    scaler = StandardScaler()\n",
    "    X_scaled = scaler.fit_transform(X)\n",
    "    \n",
    "    # Split data into training and test sets\n",
    "    X_train, X_test, y_train, y_test = train_test_split(X_scaled, y, test_size=0.2, random_state=42)\n",
    "    \n",
    "    # Perform Lasso regression\n",
    "    lasso = Lasso(alpha=0.04)  # alpha can be tuned\n",
    "    lasso.fit(X_train, y_train)\n",
    "    \n",
    "    # Get the selected features\n",
    "    selected_features = X.columns[lasso.coef_ != 0]\n",
    "    return selected_features\n",
    "\n",
    "# Step 4: Repeat the process for rows with sample equals 'L86' and 'L98' separately and together\n",
    "selected_features_L86 = lasso_feature_selection(df_filtered[df_filtered['sample'] == 'L86'], 'cell_label')\n",
    "selected_features_L98 = lasso_feature_selection(df_filtered[df_filtered['sample'] == 'L98'], 'cell_label')\n",
    "selected_features_combined = lasso_feature_selection(df_filtered[df_filtered['sample'].isin(['L86', 'L98'])], 'cell_label')\n",
    "\n",
    "# Check the selected features\n",
    "print(\"The number of selected features for L86 samples is: \", len(selected_features_L86))\n",
    "print(\"The number of selected features for L98 samples is: \", len(selected_features_L98))\n",
    "print(\"The number of selected features for combined L86 and L98 samples is: \", len(selected_features_combined))\n"
   ]
  },
  {
   "cell_type": "markdown",
   "metadata": {},
   "source": [
    "## Visualization of selected variant"
   ]
  },
  {
   "cell_type": "code",
   "execution_count": 46,
   "metadata": {},
   "outputs": [
    {
     "name": "stdout",
     "output_type": "stream",
     "text": [
      "The dimension of the heatmap data is:  (14, 1841)\n",
      "cellID   L86_AAAGGATTCAGAGCGA  L86_AACAAGAAGTCACGAG  L86_AACCTGACAATGTGGG  \\\n",
      "1113G>A              0.015625              0.000000                   0.0   \n",
      "1123C>A              0.095238              0.080645                   0.0   \n",
      "1138G>A              0.000000              0.000000                   0.0   \n",
      "1380G>A              0.032258              0.039604                   0.2   \n",
      "1525C>A              0.070175              0.051948                   0.0   \n",
      "\n",
      "cellID   L86_AACGAAAGTCGACTTA  L86_AACGGGACAACGAGGT  L86_AACTTCTGTAATCAAG  \\\n",
      "1113G>A              0.010050              0.036364              0.027027   \n",
      "1123C>A              0.040609              0.192308              0.130841   \n",
      "1138G>A              0.000000              0.000000              0.000000   \n",
      "1380G>A              0.029508              0.012987              0.026178   \n",
      "1525C>A              0.038251              0.016949              0.014599   \n",
      "\n",
      "cellID   L86_AACTTCTTCCTGGGAC  L86_AAGCATCCAACTCGTA  L86_AAGCGTTCAAGGAGTC  \\\n",
      "1113G>A              0.000000              0.013333              0.000000   \n",
      "1123C>A              0.105263              0.069444              0.073171   \n",
      "1138G>A              0.000000              0.000000              0.000000   \n",
      "1380G>A              0.026667              0.030000              0.047619   \n",
      "1525C>A              0.000000              0.018957              0.027778   \n",
      "\n",
      "cellID   L86_AATGACCGTTTGGAGG  ...  L98_TTTCGATTCCGAAATC  \\\n",
      "1113G>A              0.015873  ...              0.019048   \n",
      "1123C>A              0.032787  ...              0.019417   \n",
      "1138G>A              0.000000  ...              0.005181   \n",
      "1380G>A              0.039216  ...              0.097403   \n",
      "1525C>A              0.044776  ...              0.033333   \n",
      "\n",
      "cellID   L98_TTTGACTCAGCTCTGG  L98_TTTGACTTCAAACCTG  L98_TTTGGAGCAACCCTCT  \\\n",
      "1113G>A              0.000000              0.050827              0.000000   \n",
      "1123C>A              0.025641              0.173810              0.056604   \n",
      "1138G>A              0.005525              0.005507              0.010309   \n",
      "1380G>A              0.066176              0.037919              0.089005   \n",
      "1525C>A              0.044444              0.022008              0.062500   \n",
      "\n",
      "cellID   L98_TTTGGAGTCATTCATC  L98_TTTGGTTCATACTGTG  L98_TTTGGTTGTCTAATCG  \\\n",
      "1113G>A              0.034884              0.010989              0.000000   \n",
      "1123C>A              0.059524              0.049451              0.010870   \n",
      "1138G>A              0.006024              0.000000              0.008696   \n",
      "1380G>A              0.053691              0.050336              0.047619   \n",
      "1525C>A              0.090909              0.035714              0.114286   \n",
      "\n",
      "cellID   L98_TTTGTTGCAGTGTACT  L98_TTTGTTGTCACAATGC  L98_TTTGTTGTCTTAGCTT  \n",
      "1113G>A              0.018405              0.035000              0.035040  \n",
      "1123C>A              0.062500              0.100503              0.114441  \n",
      "1138G>A              0.018248              0.003279              0.001590  \n",
      "1380G>A              0.026432              0.066964              0.054000  \n",
      "1525C>A              0.034965              0.049587              0.054475  \n",
      "\n",
      "[5 rows x 1841 columns]\n"
     ]
    }
   ],
   "source": [
    "heatmap_df = df_filtered.copy()\n",
    "heatmap_df = df_filtered.drop(columns=['sample', 'sample_label', 'cell_label'], errors='ignore').T\n",
    "heatmap_df = heatmap_df.loc[selected_features_L98, :]\n",
    "print(\"The dimension of the heatmap data is: \", heatmap_df.shape)\n",
    "print(heatmap_df.head())"
   ]
  },
  {
   "cell_type": "code",
   "execution_count": 47,
   "metadata": {},
   "outputs": [],
   "source": [
    "from matplotlib import cm\n",
    "from matplotlib.colors import ListedColormap, LinearSegmentedColormap\n",
    "\n",
    "raw_col = cm.get_cmap('pink_r', 200)\n",
    "new_colors = raw_col(np.linspace(0, 1, 256))\n",
    "even_seg_pink = LinearSegmentedColormap.from_list(\"even_seg_pink\", new_colors)\n",
    "new_col = np.vstack((raw_col(np.linspace(0, 0.7, 10)),\n",
    "                     raw_col(np.linspace(0.7, 1, 90))))\n",
    "segpink = ListedColormap(new_col, name='segpink')"
   ]
  },
  {
   "cell_type": "code",
   "execution_count": 48,
   "metadata": {},
   "outputs": [
    {
     "name": "stdout",
     "output_type": "stream",
     "text": [
      "['L86_Normal' 'L86_Tumor' 'L98_Normal' 'L98_Tumor']\n"
     ]
    },
    {
     "data": {
      "image/png": "[encoded data removed]",
      "text/plain": [
       "<Figure size 720x720 with 5 Axes>"
      ]
     },
     "metadata": {
      "needs_background": "light"
     },
     "output_type": "display_data"
    }
   ],
   "source": [
    "## plot\n",
    "mtSNP_ids = heatmap_df.index\n",
    "cell_label = df_filtered['sample_label']\n",
    "id_uniq = np.unique(cell_label)\n",
    "print(id_uniq)\n",
    "vireoSNP.plot.anno_heat(heatmap_df.to_numpy(), col_anno=cell_label, col_order_ids=id_uniq,\n",
    "                        cmap=segpink, yticklabels=mtSNP_ids)\n",
    "plt.show()"
   ]
  },
  {
   "cell_type": "code",
   "execution_count": null,
   "metadata": {},
   "outputs": [],
   "source": []
  }
 ],
 "metadata": {
  "kernelspec": {
   "display_name": "maester",
   "language": "python",
   "name": "python3"
  },
  "language_info": {
   "codemirror_mode": {
    "name": "ipython",
    "version": 3
   },
   "file_extension": ".py",
   "mimetype": "text/x-python",
   "name": "python",
   "nbconvert_exporter": "python",
   "pygments_lexer": "ipython3",
   "version": "3.8.5"
  }
 },
 "nbformat": 4,
 "nbformat_minor": 2
}
